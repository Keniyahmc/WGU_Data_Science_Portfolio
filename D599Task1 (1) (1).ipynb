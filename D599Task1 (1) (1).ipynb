{
 "cells": [
  {
   "cell_type": "code",
   "execution_count": 2,
   "id": "582e5679-f81c-4872-b9a7-2ec6980d1dc4",
   "metadata": {},
   "outputs": [],
   "source": [
    "# Import required library\n",
    "import pandas as pd"
   ]
  },
  {
   "cell_type": "code",
   "execution_count": 4,
   "id": "c444f817-4b07-475d-828a-f108a5135b89",
   "metadata": {},
   "outputs": [],
   "source": [
    "# Load the dataset\n",
    "df = pd.read_csv(\"Employee Turnover Dataset.csv\")"
   ]
  },
  {
   "cell_type": "code",
   "execution_count": 5,
   "id": "c073602e-7984-40e2-8b88-f1af9d02ee19",
   "metadata": {},
   "outputs": [
    {
     "name": "stdout",
     "output_type": "stream",
     "text": [
      "Initial dataset shape:\n",
      "(10199, 16)\n"
     ]
    }
   ],
   "source": [
    "# Check the initial shape of the dataset\n",
    "print(\"Initial dataset shape:\")\n",
    "print(df.shape)"
   ]
  },
  {
   "cell_type": "code",
   "execution_count": 6,
   "id": "ef02879b-3621-4f36-8e9f-440ddbe03331",
   "metadata": {},
   "outputs": [
    {
     "name": "stdout",
     "output_type": "stream",
     "text": [
      "\n",
      "Number of duplicate rows:\n",
      "99\n"
     ]
    }
   ],
   "source": [
    "# ------------------------------\n",
    "# Quality Issue #1 - Duplicate Entries\n",
    "# ------------------------------\n",
    "\n",
    "# Check for duplicated rows\n",
    "num_duplicates = df.duplicated().sum()\n",
    "print(\"\\nNumber of duplicate rows:\")\n",
    "print(num_duplicates)"
   ]
  },
  {
   "cell_type": "code",
   "execution_count": 8,
   "id": "69efea8f-9817-4e5d-a5f9-d440034f1751",
   "metadata": {},
   "outputs": [
    {
     "name": "stdout",
     "output_type": "stream",
     "text": [
      "\n",
      "Duplicate rows:\n",
      "       EmployeeNumber  Age  Tenure Turnover HourlyRate   HoursWeekly  \\\n",
      "10100               1   28       6      Yes     $24.37            40   \n",
      "10101               2   33       2      Yes     $24.37            40   \n",
      "10102               3   22       1       No     $22.52            40   \n",
      "10103               4   23       1       No     $22.52            40   \n",
      "10104               5   40       6       No     $88.77            40   \n",
      "...               ...  ...     ...      ...         ...          ...   \n",
      "10194              95   48      13      Yes     $85.40            40   \n",
      "10195              96   54      17       No     $85.40            40   \n",
      "10196              97   44       6       No     $71.90            40   \n",
      "10197              98   58      19       No     $71.90            40   \n",
      "10198              99   48      17      Yes     $71.33            40   \n",
      "\n",
      "      CompensationType  AnnualSalary  DrivingCommuterDistance  \\\n",
      "10100           Salary       50689.6                       89   \n",
      "10101           Salary       50689.6                       89   \n",
      "10102           Salary       46841.6                       35   \n",
      "10103           Salary       46841.6                       35   \n",
      "10104           Salary      284641.6                       12   \n",
      "...                ...           ...                      ...   \n",
      "10194           Salary      177632.0                       31   \n",
      "10195           Salary      177632.0                       31   \n",
      "10196           Salary      149552.0                       32   \n",
      "10197           Salary      149552.0                       32   \n",
      "10198           Salary      148075.2                       50   \n",
      "\n",
      "                  JobRoleArea                Gender MaritalStatus  \\\n",
      "10100                Research                Female       Married   \n",
      "10101                Research                Female       Married   \n",
      "10102  Information_Technology                Female        Single   \n",
      "10103  Information_Technology                Female        Single   \n",
      "10104                   Sales  Prefer Not to Answer        Single   \n",
      "...                       ...                   ...           ...   \n",
      "10194                Research                  Male        Single   \n",
      "10195                Research                  Male        Single   \n",
      "10196               Marketing                  Male       Married   \n",
      "10197               Marketing                  Male       Married   \n",
      "10198                   Sales  Prefer Not to Answer       Married   \n",
      "\n",
      "       NumCompaniesPreviouslyWorked  AnnualProfessionalDevHrs PaycheckMethod  \\\n",
      "10100                           3.0                       7.0     Mail Check   \n",
      "10101                           6.0                       7.0     Mail Check   \n",
      "10102                           1.0                       8.0   Mailed Check   \n",
      "10103                           3.0                       NaN   Mailed Check   \n",
      "10104                           7.0                       NaN     Mail Check   \n",
      "...                             ...                       ...            ...   \n",
      "10194                           7.0                       5.0     Mail Check   \n",
      "10195                           2.0                      25.0     Mail Check   \n",
      "10196                           6.0                       NaN     Mail Check   \n",
      "10197                           5.0                      23.0     Mail Check   \n",
      "10198                           8.0                       8.0     Mail Check   \n",
      "\n",
      "      TextMessageOptIn  \n",
      "10100              Yes  \n",
      "10101              Yes  \n",
      "10102              Yes  \n",
      "10103              Yes  \n",
      "10104              Yes  \n",
      "...                ...  \n",
      "10194              NaN  \n",
      "10195              Yes  \n",
      "10196              Yes  \n",
      "10197              Yes  \n",
      "10198              Yes  \n",
      "\n",
      "[99 rows x 16 columns]\n"
     ]
    }
   ],
   "source": [
    "# If duplicates exist, display them\n",
    "if num_duplicates > 0:\n",
    "    duplicate_rows = df[df.duplicated()]\n",
    "    print(\"\\nDuplicate rows:\")\n",
    "    print(duplicate_rows)"
   ]
  },
  {
   "cell_type": "code",
   "execution_count": 10,
   "id": "72e9aa15-554f-4aa8-9ca5-58922926602b",
   "metadata": {},
   "outputs": [],
   "source": [
    "# Remove duplicate rows\n",
    "df = df.drop_duplicates()"
   ]
  },
  {
   "cell_type": "code",
   "execution_count": 12,
   "id": "33c99194-01e6-4f15-b231-870b78a8b43a",
   "metadata": {
    "scrolled": true
   },
   "outputs": [
    {
     "name": "stdout",
     "output_type": "stream",
     "text": [
      "\n",
      "Dataset shape after removing duplicates:\n",
      "(10100, 16)\n"
     ]
    }
   ],
   "source": [
    "# Confirm duplicates removed\n",
    "print(\"\\nDataset shape after removing duplicates:\")\n",
    "print(df.shape)\n"
   ]
  },
  {
   "cell_type": "code",
   "execution_count": 16,
   "id": "40273cc4-5164-4a99-af02-1d593d5a5290",
   "metadata": {
    "scrolled": true
   },
   "outputs": [
    {
     "name": "stdout",
     "output_type": "stream",
     "text": [
      "\n",
      "Missing values in each column:\n",
      "EmployeeNumber                     0\n",
      "Age                                0\n",
      "Tenure                             0\n",
      "Turnover                           0\n",
      "HourlyRate                         0\n",
      "HoursWeekly                        0\n",
      "CompensationType                   0\n",
      "AnnualSalary                       0\n",
      "DrivingCommuterDistance            0\n",
      "JobRoleArea                        0\n",
      "Gender                             0\n",
      "MaritalStatus                      0\n",
      "NumCompaniesPreviouslyWorked     663\n",
      "AnnualProfessionalDevHrs        1947\n",
      "PaycheckMethod                     0\n",
      "TextMessageOptIn                2258\n",
      "dtype: int64\n"
     ]
    }
   ],
   "source": [
    "# -----------------------------------------------\n",
    "# Quality Issue #2 - Missing Values\n",
    "# -----------------------------------------------\n",
    "\n",
    "# Check for missing values\n",
    "print(\"\\nMissing values in each column:\")\n",
    "print(df.isnull().sum())"
   ]
  },
  {
   "cell_type": "code",
   "execution_count": 18,
   "id": "6453acef-7070-41fa-aac5-55d77e6d0953",
   "metadata": {},
   "outputs": [],
   "source": [
    "# Fill numeric missing values with median\n",
    "df['DrivingCommuterDistance'] = df['DrivingCommuterDistance'].fillna(df['DrivingCommuterDistance'].median())\n",
    "df['AnnualProfessionalDevHrs'] = df['AnnualProfessionalDevHrs'].fillna(df['AnnualProfessionalDevHrs'].median())\n",
    "\n",
    "# Fill TextMessageOptIn with \"No\"\n",
    "df['TextMessageOptIn'] = df['TextMessageOptIn'].fillna('No')\n",
    "\n",
    "# Fill NumCompaniesPreviouslyWorked with 0\n",
    "df['NumCompaniesPreviouslyWorked'] = pd.to_numeric(df['NumCompaniesPreviouslyWorked'], errors='coerce')\n",
    "df['NumCompaniesPreviouslyWorked'] = df['NumCompaniesPreviouslyWorked'].fillna(0)\n"
   ]
  },
  {
   "cell_type": "code",
   "execution_count": 20,
   "id": "aa684add-235b-4caa-b431-72b367e4e60c",
   "metadata": {},
   "outputs": [
    {
     "name": "stdout",
     "output_type": "stream",
     "text": [
      "\n",
      "Missing values after filling:\n",
      "EmployeeNumber                  0\n",
      "Age                             0\n",
      "Tenure                          0\n",
      "Turnover                        0\n",
      "HourlyRate                      0\n",
      "HoursWeekly                     0\n",
      "CompensationType                0\n",
      "AnnualSalary                    0\n",
      "DrivingCommuterDistance         0\n",
      "JobRoleArea                     0\n",
      "Gender                          0\n",
      "MaritalStatus                   0\n",
      "NumCompaniesPreviouslyWorked    0\n",
      "AnnualProfessionalDevHrs        0\n",
      "PaycheckMethod                  0\n",
      "TextMessageOptIn                0\n",
      "dtype: int64\n"
     ]
    }
   ],
   "source": [
    "# Confirm missing values handled\n",
    "print(\"\\nMissing values after filling:\")\n",
    "print(df.isnull().sum())\n"
   ]
  },
  {
   "cell_type": "code",
   "execution_count": 22,
   "id": "1d987ddb-5bcc-4f96-a70e-f4527ac403e8",
   "metadata": {},
   "outputs": [],
   "source": [
    "\n",
    "# -----------------------------------------------\n",
    "# Quality Issues #3 & #4 -  Inconsistent Entries and Formatting Errors\n",
    "# -----------------------------------------------\n",
    "\n",
    "# Define categorical columns\n",
    "categorical_cols = ['CompensationType', 'PaycheckMethod', 'JobRoleArea', 'Gender', 'MaritalStatus', 'TextMessageOptIn']\n"
   ]
  },
  {
   "cell_type": "code",
   "execution_count": 43,
   "id": "404c73d9-d684-41cd-b80e-f0048486bf96",
   "metadata": {},
   "outputs": [
    {
     "name": "stdout",
     "output_type": "stream",
     "text": [
      "\n",
      "Unique values in CompensationType before cleaning:\n",
      "['Salary']\n",
      "\n",
      "Unique values in PaycheckMethod before cleaning:\n",
      "['Mail Check' 'Mailed Check' 'Direct_Deposit' 'DirectDeposit'\n",
      " 'Direct Deposit' 'Mail_Check' 'MailedCheck']\n",
      "\n",
      "Unique values in JobRoleArea before cleaning:\n",
      "['Research' 'Information_Technology' 'Sales' 'Human_Resources'\n",
      " 'Laboratory' 'Manufacturing' 'Healthcare' 'Marketing'\n",
      " 'InformationTechnology' 'HumanResources' 'Information Technology'\n",
      " 'Human Resources']\n",
      "\n",
      "Unique values in Gender before cleaning:\n",
      "['Female' 'Prefer Not to Answer' 'Male']\n",
      "\n",
      "Unique values in MaritalStatus before cleaning:\n",
      "['Married' 'Single' 'Divorced']\n",
      "\n",
      "Unique values in TextMessageOptIn before cleaning:\n",
      "['Yes' 'No']\n"
     ]
    }
   ],
   "source": [
    "for col in categorical_cols:\n",
    " print(\"\\nUnique values in\", col, \"before cleaning:\")\n",
    " print(df[col].unique())"
   ]
  },
  {
   "cell_type": "code",
   "execution_count": 24,
   "id": "ed1883bd-9817-4574-9983-b6eaa55521a5",
   "metadata": {},
   "outputs": [],
   "source": [
    "# Manual mappings for known inconsistent entries\n",
    "\n",
    "# PaycheckMethod fixes\n",
    "df['PaycheckMethod'] = df['PaycheckMethod'].replace({\n",
    "    'Direct_Deposit': 'Direct Deposit',\n",
    "    'DirectDeposit': 'Direct Deposit',\n",
    "    'Mail_Check': 'Mail Check',\n",
    "    'MailedCheck': 'Mail Check',\n",
    "    'Mailed Check': 'Mail Check'\n",
    "})\n",
    "\n",
    "# JobRoleArea fixes\n",
    "df['JobRoleArea'] = df['JobRoleArea'].replace({\n",
    "    'Information_Technology': 'Information Technology',\n",
    "    'InformationTechnology': 'Information Technology',\n",
    "    'Human_Resources': 'Human Resources',\n",
    "    'HumanResources': 'Human Resources'\n",
    "})\n",
    "\n",
    "# Apply general cleaning (strip and title case)\n",
    "for col in categorical_cols:\n",
    "    df[col] = df[col].astype(str).str.strip().str.title()\n"
   ]
  },
  {
   "cell_type": "code",
   "execution_count": 26,
   "id": "139eb3c8-d15e-468d-adb3-4ac288ea0225",
   "metadata": {
    "scrolled": true
   },
   "outputs": [
    {
     "name": "stdout",
     "output_type": "stream",
     "text": [
      "\n",
      "Unique values in CompensationType after cleaning:\n",
      "['Salary']\n",
      "\n",
      "Unique values in PaycheckMethod after cleaning:\n",
      "['Mail Check' 'Direct Deposit']\n",
      "\n",
      "Unique values in JobRoleArea after cleaning:\n",
      "['Research' 'Information Technology' 'Sales' 'Human Resources'\n",
      " 'Laboratory' 'Manufacturing' 'Healthcare' 'Marketing']\n",
      "\n",
      "Unique values in Gender after cleaning:\n",
      "['Female' 'Prefer Not To Answer' 'Male']\n",
      "\n",
      "Unique values in MaritalStatus after cleaning:\n",
      "['Married' 'Single' 'Divorced']\n",
      "\n",
      "Unique values in TextMessageOptIn after cleaning:\n",
      "['Yes' 'No']\n"
     ]
    }
   ],
   "source": [
    "\n",
    "# Confirm unique values after cleaning\n",
    "for col in categorical_cols:\n",
    "    print(\"\\nUnique values in\", col, \"after cleaning:\")\n",
    "    print(df[col].unique())"
   ]
  },
  {
   "cell_type": "code",
   "execution_count": 28,
   "id": "169c44fa-e4f7-49e0-a88c-c648f5f4e9ae",
   "metadata": {},
   "outputs": [
    {
     "name": "stdout",
     "output_type": "stream",
     "text": [
      "\n",
      "Summary statistics for numeric columns (Outlier Check):\n",
      "       EmployeeNumber           Age        Tenure  HoursWeekly   AnnualSalary  \\\n",
      "count    10100.000000  10100.000000  10100.000000      10100.0   10100.000000   \n",
      "mean      5050.500000     44.078911      9.007624         40.0  120994.773564   \n",
      "std       2915.763193     10.213311      5.512046          0.0   77358.965898   \n",
      "min          1.000000     21.000000      1.000000         40.0  -33326.400000   \n",
      "25%       2525.750000     37.000000      5.000000         40.0   63440.000000   \n",
      "50%       5050.500000     44.000000      8.000000         40.0  101774.400000   \n",
      "75%       7575.250000     53.000000     13.000000         40.0  153717.200000   \n",
      "max      10100.000000     61.000000     20.000000         40.0  339950.400000   \n",
      "\n",
      "       DrivingCommuterDistance  NumCompaniesPreviouslyWorked  \\\n",
      "count             10100.000000                  10100.000000   \n",
      "mean                 45.165743                      3.942970   \n",
      "std                  51.390866                      2.618329   \n",
      "min                -275.000000                      0.000000   \n",
      "25%                  13.000000                      2.000000   \n",
      "50%                  42.000000                      3.000000   \n",
      "75%                  71.000000                      6.000000   \n",
      "max                 950.000000                      9.000000   \n",
      "\n",
      "       AnnualProfessionalDevHrs  \n",
      "count              10100.000000  \n",
      "mean                  14.954455  \n",
      "std                    5.466432  \n",
      "min                    5.000000  \n",
      "25%                   11.000000  \n",
      "50%                   15.000000  \n",
      "75%                   19.000000  \n",
      "max                   25.000000  \n"
     ]
    }
   ],
   "source": [
    "# Outliers check using summary statistics\n",
    "print(\"\\nSummary statistics for numeric columns (Outlier Check):\")\n",
    "print(df.describe())\n"
   ]
  },
  {
   "cell_type": "code",
   "execution_count": 30,
   "id": "37d75e66-cf05-4e63-8a81-72b0843610d9",
   "metadata": {
    "scrolled": true
   },
   "outputs": [],
   "source": [
    "import numpy as np\n",
    "\n",
    "\n",
    "# Fix negative AnnualSalary\n",
    "# Replace negative salaries with NaN\n",
    "df['AnnualSalary'] = df['AnnualSalary'].apply(lambda x: x if x >= 0 else np.nan)\n",
    "\n",
    "# Fill NaN (negative values replaced) with median salary\n",
    "df['AnnualSalary'] = df['AnnualSalary'].fillna(df['AnnualSalary'].median())\n",
    "\n",
    "# Fix negative DrivingCommuterDistance\n",
    "# Replace negative distances with NaN\n",
    "df['DrivingCommuterDistance'] = df['DrivingCommuterDistance'].apply(lambda x: x if x >= 0 else np.nan)\n",
    "\n",
    "# Fill NaN (negative values replaced) with median distance\n",
    "df['DrivingCommuterDistance'] = df['DrivingCommuterDistance'].fillna(df['DrivingCommuterDistance'].median())\n"
   ]
  },
  {
   "cell_type": "code",
   "execution_count": 32,
   "id": "dc066c36-4417-479d-94ce-00ca1aaaa210",
   "metadata": {},
   "outputs": [
    {
     "name": "stdout",
     "output_type": "stream",
     "text": [
      "\n",
      "Fixed AnnualSalary summary:\n",
      "count     10100.000000\n",
      "mean     121612.107267\n",
      "std       76735.205764\n",
      "min        1307.200000\n",
      "25%       63835.200000\n",
      "50%      102440.000000\n",
      "75%      153717.200000\n",
      "max      339950.400000\n",
      "Name: AnnualSalary, dtype: float64\n",
      "\n",
      "Fixed DrivingCommuterDistance summary:\n",
      "count    10100.000000\n",
      "mean        53.421683\n",
      "std         44.483847\n",
      "min          0.000000\n",
      "25%         30.000000\n",
      "50%         49.000000\n",
      "75%         71.000000\n",
      "max        950.000000\n",
      "Name: DrivingCommuterDistance, dtype: float64\n"
     ]
    }
   ],
   "source": [
    "# Confirm fixed values\n",
    "print(\"\\nFixed AnnualSalary summary:\")\n",
    "print(df['AnnualSalary'].describe())\n",
    "\n",
    "print(\"\\nFixed DrivingCommuterDistance summary:\")\n",
    "print(df['DrivingCommuterDistance'].describe())"
   ]
  },
  {
   "cell_type": "code",
   "execution_count": 34,
   "id": "e42bed1d-5bcb-4384-94a5-de6917723506",
   "metadata": {},
   "outputs": [
    {
     "name": "stdout",
     "output_type": "stream",
     "text": [
      "\n",
      "Cleaned dataset saved as 'employee_turnover_cleaned.csv'.\n"
     ]
    }
   ],
   "source": [
    "# Save cleaned dataset\n",
    "df.to_csv(\"employee_turnover_cleaned.csv\", index=False)\n",
    "print(\"\\nCleaned dataset saved as 'employee_turnover_cleaned.csv'.\")"
   ]
  },
  {
   "cell_type": "code",
   "execution_count": null,
   "id": "7d9ec520-768c-4966-9650-01f8ba9bcdf3",
   "metadata": {},
   "outputs": [],
   "source": []
  }
 ],
 "metadata": {
  "kernelspec": {
   "display_name": "Python [conda env:base] *",
   "language": "python",
   "name": "conda-base-py"
  },
  "language_info": {
   "codemirror_mode": {
    "name": "ipython",
    "version": 3
   },
   "file_extension": ".py",
   "mimetype": "text/x-python",
   "name": "python",
   "nbconvert_exporter": "python",
   "pygments_lexer": "ipython3",
   "version": "3.12.7"
  }
 },
 "nbformat": 4,
 "nbformat_minor": 5
}
