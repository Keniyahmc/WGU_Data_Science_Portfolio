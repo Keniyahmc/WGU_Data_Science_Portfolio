{
 "cells": [
  {
   "cell_type": "code",
   "execution_count": 5,
   "id": "f0be881f-e9b6-4f78-af96-937a29b9225d",
   "metadata": {},
   "outputs": [],
   "source": [
    "import pandas as pd"
   ]
  },
  {
   "cell_type": "code",
   "execution_count": 7,
   "id": "751e6050-ce7d-4ef0-9221-847f22d5f3ef",
   "metadata": {},
   "outputs": [],
   "source": [
    "# Load formatted data\n",
    "df = pd.read_csv(\"formatted_data.csv\")"
   ]
  },
  {
   "cell_type": "code",
   "execution_count": 8,
   "id": "f96a664c-21f7-4991-a028-3ce1f476730e",
   "metadata": {},
   "outputs": [],
   "source": [
    "# Filter to only JFK as origin (12478)\n",
    "df = df[df[\"ORG_AIRPORT\"] == 12478].copy()"
   ]
  },
  {
   "cell_type": "code",
   "execution_count": 11,
   "id": "01fc28d6-b9ec-4949-b297-cc079c5c75ad",
   "metadata": {},
   "outputs": [],
   "source": [
    "# Drop rows with missing key values\n",
    "df.dropna(subset=[\"DEPARTURE_TIME\", \"DEPARTURE_DELAY\", \"ARRIVAL_TIME\", \"ARRIVAL_DELAY\"], inplace=True)"
   ]
  },
  {
   "cell_type": "code",
   "execution_count": 17,
   "id": "46ce55b8-007e-4d6c-947d-8ec636c82e48",
   "metadata": {},
   "outputs": [],
   "source": [
    "# Strip leading/trailing spaces only on object (string) columns\n",
    "for col in df.select_dtypes(include=['object']):\n",
    "    df[col] = df[col].map(lambda x: x.strip() if isinstance(x, str) else x)"
   ]
  },
  {
   "cell_type": "code",
   "execution_count": 19,
   "id": "19b19d1a-114c-47bc-9bc9-b2c35d6d6e82",
   "metadata": {},
   "outputs": [
    {
     "name": "stdout",
     "output_type": "stream",
     "text": [
      "✅ Cleaned data saved to cleaned_data.csv\n"
     ]
    }
   ],
   "source": [
    "# Save cleaned file\n",
    "df.to_csv(\"cleaned_data.csv\", index=False)\n",
    "print(\"✅ Cleaned data saved to cleaned_data.csv\")"
   ]
  },
  {
   "cell_type": "code",
   "execution_count": null,
   "id": "1b1af20c-ced9-48af-b863-424a5f473049",
   "metadata": {},
   "outputs": [],
   "source": []
  }
 ],
 "metadata": {
  "kernelspec": {
   "display_name": "Python [conda env:base] *",
   "language": "python",
   "name": "conda-base-py"
  },
  "language_info": {
   "codemirror_mode": {
    "name": "ipython",
    "version": 3
   },
   "file_extension": ".py",
   "mimetype": "text/x-python",
   "name": "python",
   "nbconvert_exporter": "python",
   "pygments_lexer": "ipython3",
   "version": "3.12.7"
  }
 },
 "nbformat": 4,
 "nbformat_minor": 5
}
