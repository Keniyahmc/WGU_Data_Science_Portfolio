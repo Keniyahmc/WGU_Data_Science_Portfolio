{
 "cells": [
  {
   "cell_type": "code",
   "execution_count": 44,
   "id": "b53d9b4d-8a63-4d5a-8700-5fcfefa9f881",
   "metadata": {},
   "outputs": [],
   "source": [
    "import pandas as pd\n",
    "import numpy as np\n",
    "from sklearn.preprocessing import StandardScaler\n",
    "from sklearn.decomposition import PCA\n",
    "from sklearn.model_selection import train_test_split\n",
    "from sklearn.linear_model import LinearRegression\n",
    "from sklearn.metrics import mean_squared_error\n",
    "import matplotlib.pyplot as plt\n",
    "import seaborn as sns\n",
    "import statsmodels.api as sm\n",
    "from statsmodels.stats.outliers_influence import variance_inflation_factor"
   ]
  },
  {
   "cell_type": "code",
   "execution_count": 46,
   "id": "8d4bf63e-6582-4558-854d-40f0216b4fae",
   "metadata": {},
   "outputs": [],
   "source": [
    "# Load and prepare data\n",
    "df = pd.read_csv(\"D600 Task 3 Dataset 1 Housing Information.csv\")\n",
    "df_numeric = df.drop(columns=[\"ID\", \"Fireplace\", \"HouseColor\", \"Garage\", \"IsLuxury\"])\n",
    "y = df[\"Price\"]"
   ]
  },
  {
   "cell_type": "code",
   "execution_count": 48,
   "id": "e14c419b-9039-4cfc-9ca9-266d3387105e",
   "metadata": {},
   "outputs": [],
   "source": [
    "# Independent variables (non-categorical, continuous)\n",
    "independent_variables = df[['SquareFootage', 'NumBathrooms', 'NumBedrooms',\n",
    "                            'BackyardSpace', 'CrimeRate', 'SchoolRating',\n",
    "                            'AgeOfHome', 'DistanceToCityCenter', 'EmploymentRate',\n",
    "                            'PropertyTaxRate', 'RenovationQuality', 'LocalAmenities',\n",
    "                            'TransportAccess', 'PreviousSalePrice', 'Windows']]"
   ]
  },
  {
   "cell_type": "code",
   "execution_count": 50,
   "id": "5c8e3410-17f7-4c27-8d15-06f8a5b34411",
   "metadata": {},
   "outputs": [],
   "source": [
    "# Standardize numeric data\n",
    "scaler = StandardScaler()\n",
    "X_scaled = scaler.fit_transform(df_numeric)"
   ]
  },
  {
   "cell_type": "code",
   "execution_count": 52,
   "id": "87c84493-bb25-4c1a-a2da-7cafaf671026",
   "metadata": {},
   "outputs": [],
   "source": [
    "# Convert the scaled data back into a DataFrame\n",
    "standardized_df = pd.DataFrame(X_scaled, columns=df_numeric.columns)\n",
    "\n",
    "# Add the target variable (Price) back in\n",
    "standardized_df[\"Price\"] = df[\"Price\"].values\n",
    "\n",
    "# Export standardized dataset to CSV\n",
    "standardized_df.to_csv(\"Task3_Standardized_Dataset.csv\", index=False)"
   ]
  },
  {
   "cell_type": "code",
   "execution_count": 54,
   "id": "3d2a442e-413d-410d-8f1f-089d0a7648da",
   "metadata": {},
   "outputs": [
    {
     "name": "stdout",
     "output_type": "stream",
     "text": [
      "Descriptive Statistics for Dependent Variable (Price):\n",
      "count    7.000000e+03\n",
      "mean     3.072820e+05\n",
      "std      1.501734e+05\n",
      "min      8.500000e+04\n",
      "25%      1.921075e+05\n",
      "50%      2.793230e+05\n",
      "75%      3.918781e+05\n",
      "max      1.046676e+06\n",
      "Name: Price, dtype: float64\n",
      "\n",
      "Descriptive Statistics for Independent Variables:\n",
      "       SquareFootage  NumBathrooms  NumBedrooms  BackyardSpace    CrimeRate  \\\n",
      "count    7000.000000   7000.000000  7000.000000    7000.000000  7000.000000   \n",
      "mean     1048.947459      2.131397     3.008571     511.507029    31.226194   \n",
      "std       426.010482      0.952561     1.021940     279.926549    18.025327   \n",
      "min       550.000000      1.000000     1.000000       0.390000     0.030000   \n",
      "25%       660.815000      1.290539     2.000000     300.995000    17.390000   \n",
      "50%       996.320000      1.997774     3.000000     495.965000    30.385000   \n",
      "75%      1342.292500      2.763997     4.000000     704.012500    43.670000   \n",
      "max      2874.700000      5.807239     7.000000    1631.360000    99.730000   \n",
      "\n",
      "       SchoolRating    AgeOfHome  DistanceToCityCenter  EmploymentRate  \\\n",
      "count   7000.000000  7000.000000           7000.000000     7000.000000   \n",
      "mean       6.942923    46.797046             17.475337       93.711349   \n",
      "std        1.888148    31.779701             12.024985        4.505359   \n",
      "min        0.220000     0.010000              0.000000       72.050000   \n",
      "25%        5.650000    20.755000              7.827500       90.620000   \n",
      "50%        7.010000    42.620000             15.625000       94.010000   \n",
      "75%        8.360000    67.232500             25.222500       97.410000   \n",
      "max       10.000000   178.680000             65.200000       99.900000   \n",
      "\n",
      "       PropertyTaxRate  RenovationQuality  LocalAmenities  TransportAccess  \\\n",
      "count      7000.000000        7000.000000     7000.000000      7000.000000   \n",
      "mean          1.500437           5.003357        5.934579         5.983860   \n",
      "std           0.498591           1.970428        2.657930         1.953974   \n",
      "min           0.010000           0.010000        0.000000         0.010000   \n",
      "25%           1.160000           3.660000        4.000000         4.680000   \n",
      "50%           1.490000           5.020000        6.040000         6.000000   \n",
      "75%           1.840000           6.350000        8.050000         7.350000   \n",
      "max           3.360000          10.000000       10.000000        10.000000   \n",
      "\n",
      "       PreviousSalePrice      Windows  \n",
      "count       7.000000e+03  7000.000000  \n",
      "mean        2.845094e+05    16.248857  \n",
      "std         1.857340e+05     8.926479  \n",
      "min        -8.356902e+03    -6.000000  \n",
      "25%         1.420140e+05    11.000000  \n",
      "50%         2.621831e+05    15.000000  \n",
      "75%         3.961212e+05    20.000000  \n",
      "max         1.296607e+06    63.000000  \n"
     ]
    }
   ],
   "source": [
    "# Dependent variable: Price\n",
    "dependent_variable = df['Price']\n",
    "print(\"Descriptive Statistics for Dependent Variable (Price):\")\n",
    "print(dependent_variable.describe())\n",
    "\n",
    "print(\"\\nDescriptive Statistics for Independent Variables:\")\n",
    "print(independent_variables.describe())"
   ]
  },
  {
   "cell_type": "code",
   "execution_count": 56,
   "id": "6db7f516-ec63-4bbf-8d15-9b69c0ead442",
   "metadata": {},
   "outputs": [
    {
     "name": "stdout",
     "output_type": "stream",
     "text": [
      "Matrix of Principal Components (first 5 rows):\n",
      "        PC1       PC2       PC3       PC4       PC5       PC6       PC7  \\\n",
      "0 -1.002508 -0.632978 -0.081154  1.467330  0.203681 -0.140622  1.580615   \n",
      "1 -1.225528 -0.249734  0.900630  0.842799 -1.627443  0.382147 -0.481045   \n",
      "2 -0.885745  3.078854  2.069739  1.516379  0.910887  0.434822  0.911634   \n",
      "3 -1.434192 -0.537634  0.244302  0.266000 -0.175004  0.234292 -0.345255   \n",
      "4 -2.561616  0.164708  1.010745  0.259839 -0.063403 -1.037852 -0.032391   \n",
      "\n",
      "        PC8       PC9      PC10      PC11      PC12      PC13      PC14  \\\n",
      "0  0.664823 -0.321043 -0.481561 -0.485994 -0.760199 -0.163886  0.852493   \n",
      "1 -0.786419 -0.336822 -1.501359  0.262421  0.065380  0.453547  0.130893   \n",
      "2 -0.103878 -0.348409  0.610951 -0.021700  0.646099  0.317305 -0.800818   \n",
      "3 -1.515564 -0.253884 -0.272115 -1.316417  0.777845  0.351283 -0.139690   \n",
      "4 -0.182677 -1.501229  0.926902  2.284581  0.459546  0.469513  0.297415   \n",
      "\n",
      "       PC15      PC16      PC17  \n",
      "0 -0.093871  0.209241 -0.019789  \n",
      "1 -0.345147 -0.525016 -0.480241  \n",
      "2  0.223644 -0.031267 -0.159571  \n",
      "3 -0.131875 -0.153220 -0.130610  \n",
      "4 -0.711853 -0.145513 -0.206395  \n",
      "\n",
      "PCA Loadings Matrix:\n",
      "                           PC1       PC2       PC3       PC4       PC5  \\\n",
      "Price                 0.428162 -0.006921 -0.183757 -0.177325  0.017847   \n",
      "SquareFootage         0.310833 -0.010827 -0.153822 -0.172039 -0.090444   \n",
      "NumBathrooms          0.267777 -0.012122 -0.163780 -0.144943 -0.121323   \n",
      "NumBedrooms           0.272294 -0.008441 -0.081435  0.032716  0.319994   \n",
      "BackyardSpace         0.077043  0.013134  0.066035  0.124432 -0.281699   \n",
      "CrimeRate            -0.086870  0.040990 -0.129896 -0.542462 -0.006940   \n",
      "SchoolRating          0.327970 -0.013926  0.020432  0.302837  0.211340   \n",
      "AgeOfHome            -0.119906 -0.011783 -0.124800 -0.168321  0.496498   \n",
      "DistanceToCityCenter -0.172231  0.028967 -0.035160 -0.122971  0.442713   \n",
      "EmploymentRate        0.100424 -0.012620  0.119782  0.551117  0.283192   \n",
      "PropertyTaxRate      -0.124726  0.001164 -0.008597 -0.178600  0.446862   \n",
      "RenovationQuality     0.364541  0.000963  0.021642  0.081254  0.152742   \n",
      "LocalAmenities        0.159355  0.048827  0.640681 -0.226429  0.043840   \n",
      "TransportAccess       0.160449  0.051404  0.641372 -0.218432  0.045323   \n",
      "Floors                0.006650  0.704371 -0.046554  0.025801 -0.005372   \n",
      "Windows               0.006870  0.703738 -0.045501  0.045901  0.003768   \n",
      "PreviousSalePrice     0.446500 -0.004301 -0.172324 -0.167278  0.024104   \n",
      "\n",
      "                           PC6       PC7       PC8       PC9      PC10  \\\n",
      "Price                -0.006494 -0.008843 -0.018702 -0.027054 -0.000926   \n",
      "SquareFootage         0.199561 -0.127405 -0.218166  0.177330 -0.560909   \n",
      "NumBathrooms          0.212432 -0.059311 -0.118604  0.207424  0.743169   \n",
      "NumBedrooms          -0.372825  0.322892  0.321100 -0.432462 -0.009902   \n",
      "BackyardSpace         0.707977  0.480733  0.259628 -0.290858 -0.065864   \n",
      "CrimeRate             0.009951 -0.137671  0.668969  0.226308 -0.153129   \n",
      "SchoolRating         -0.119245 -0.000237  0.033524 -0.067357  0.014465   \n",
      "AgeOfHome             0.356959 -0.222270 -0.359403 -0.347275 -0.141822   \n",
      "DistanceToCityCenter  0.265199 -0.221606  0.237093 -0.168685  0.273430   \n",
      "EmploymentRate        0.226530 -0.252830  0.310980  0.407968 -0.091605   \n",
      "PropertyTaxRate       0.028496  0.676641 -0.180592  0.498087 -0.010447   \n",
      "RenovationQuality     0.100835 -0.035307  0.022716  0.173459 -0.010689   \n",
      "LocalAmenities        0.010774 -0.048351 -0.036313 -0.025033  0.000991   \n",
      "TransportAccess       0.012388 -0.037444 -0.028825 -0.029049  0.033646   \n",
      "Floors               -0.007238  0.016768 -0.024653  0.000673  0.011397   \n",
      "Windows              -0.009432 -0.011134 -0.025597  0.002038 -0.014671   \n",
      "PreviousSalePrice    -0.000572 -0.013562 -0.014070 -0.047714  0.004066   \n",
      "\n",
      "                          PC11      PC12      PC13      PC14      PC15  \\\n",
      "Price                 0.066962 -0.288868 -0.015652 -0.002358  0.017887   \n",
      "SquareFootage         0.309902 -0.003268  0.038229 -0.190015  0.015750   \n",
      "NumBathrooms         -0.199242 -0.026106 -0.001048 -0.148815 -0.013420   \n",
      "NumBedrooms          -0.094095 -0.217024  0.005107  0.081608 -0.013426   \n",
      "BackyardSpace        -0.029047  0.039475 -0.006403 -0.035491 -0.007708   \n",
      "CrimeRate            -0.295388  0.196968  0.002125 -0.107231 -0.001106   \n",
      "SchoolRating         -0.026129  0.601131  0.005589 -0.589061  0.034538   \n",
      "AgeOfHome            -0.498017  0.007282  0.001512 -0.001466  0.003965   \n",
      "DistanceToCityCenter  0.690499  0.033643 -0.000807 -0.014356  0.004508   \n",
      "EmploymentRate       -0.172139 -0.412886  0.011004 -0.052299  0.026275   \n",
      "PropertyTaxRate       0.044438 -0.018589  0.001175 -0.078580 -0.005467   \n",
      "RenovationQuality    -0.010900  0.482252 -0.044698  0.745568 -0.055422   \n",
      "LocalAmenities       -0.011317 -0.067189 -0.701460 -0.077391 -0.003044   \n",
      "TransportAccess      -0.022828 -0.034571  0.709751 -0.013685  0.006354   \n",
      "Floors               -0.014267  0.009191 -0.008160  0.043482  0.705201   \n",
      "Windows              -0.004657 -0.019017  0.005971 -0.047695 -0.704712   \n",
      "PreviousSalePrice     0.068820 -0.237324  0.013097 -0.000238  0.003623   \n",
      "\n",
      "                          PC16      PC17  \n",
      "Price                 0.689826 -0.430742  \n",
      "SquareFootage        -0.452013 -0.232226  \n",
      "NumBathrooms         -0.337973 -0.175011  \n",
      "NumBedrooms          -0.414951 -0.217249  \n",
      "BackyardSpace         0.045422  0.013757  \n",
      "CrimeRate             0.024841  0.013416  \n",
      "SchoolRating          0.151568  0.046139  \n",
      "AgeOfHome             0.015769  0.004076  \n",
      "DistanceToCityCenter -0.004835 -0.010101  \n",
      "EmploymentRate       -0.032176 -0.003792  \n",
      "PropertyTaxRate       0.055146  0.041817  \n",
      "RenovationQuality    -0.008214 -0.029685  \n",
      "LocalAmenities       -0.037542 -0.007732  \n",
      "TransportAccess       0.002928 -0.020692  \n",
      "Floors               -0.017953 -0.002714  \n",
      "Windows               0.010139 -0.003373  \n",
      "PreviousSalePrice     0.038760  0.822763  \n"
     ]
    }
   ],
   "source": [
    "# Run PCA on standardized features\n",
    "pca = PCA()\n",
    "X_pca = pca.fit_transform(X_scaled)\n",
    "\n",
    "# 1. Matrix of all principal components (scores matrix)\n",
    "pca_matrix = pd.DataFrame(X_pca, columns=[f'PC{i+1}' for i in range(X_pca.shape[1])])\n",
    "print(\"Matrix of Principal Components (first 5 rows):\")\n",
    "print(pca_matrix.head())\n",
    "\n",
    "# 2. PCA loadings matrix\n",
    "loadings = pd.DataFrame(\n",
    "    pca.components_.T,\n",
    "    columns=[f'PC{i+1}' for i in range(pca.n_components_)],\n",
    "    index=df_numeric.columns  # ✅ matches shape (17, 17)\n",
    ")\n",
    "\n",
    "print(\"\\nPCA Loadings Matrix:\")\n",
    "print(loadings)"
   ]
  },
  {
   "cell_type": "code",
   "execution_count": 58,
   "id": "ba5b40eb-1eb8-450d-b3f7-d11eb54f7a1f",
   "metadata": {
    "scrolled": true
   },
   "outputs": [
    {
     "name": "stdout",
     "output_type": "stream",
     "text": [
      "\n",
      "Eigenvalues Array:\n",
      "[3.86973164 1.59636726 1.39724345 1.17419403 1.0664318  1.01097475\n",
      " 0.93584256 0.91854302 0.90430243 0.84637105 0.83250402 0.66863728\n",
      " 0.51208966 0.45936969 0.40602325 0.24252047 0.16128257]\n",
      "\n",
      "Number of principal components retained (Kaiser Rule): 6\n"
     ]
    },
    {
     "data": {
      "image/png": "[encoded data removed]",
      "text/plain": [
       "<Figure size 800x500 with 1 Axes>"
      ]
     },
     "metadata": {},
     "output_type": "display_data"
    }
   ],
   "source": [
    "#PCA \n",
    "pca = PCA()\n",
    "X_pca = pca.fit_transform(X_scaled)\n",
    "\n",
    "# 1. Extract eigenvalues (explained variance)\n",
    "eigenvalues = pca.explained_variance_\n",
    "\n",
    "print(\"\\nEigenvalues Array:\")\n",
    "print(eigenvalues)\n",
    "\n",
    "# 2. Apply Kaiser Rule: retain components with eigenvalue > 1\n",
    "kaiser_components = sum(eigenvalues > 1)\n",
    "print(f\"\\nNumber of principal components retained (Kaiser Rule): {kaiser_components}\")\n",
    "\n",
    "# 3. Optional: Scree plot for visual confirmation\n",
    "import matplotlib.pyplot as plt\n",
    "\n",
    "plt.figure(figsize=(8, 5))\n",
    "plt.plot(range(1, len(eigenvalues) + 1), eigenvalues, marker='o')\n",
    "plt.title('Scree Plot')\n",
    "plt.xlabel('Principal Component')\n",
    "plt.ylabel('Eigenvalue')\n",
    "plt.axhline(y=1, color='r', linestyle='--', label='Kaiser Rule Threshold')\n",
    "plt.legend()\n",
    "plt.grid(True)\n",
    "plt.show()\n",
    "\n"
   ]
  },
  {
   "cell_type": "code",
   "execution_count": 60,
   "id": "aee77776-b616-41f8-a7c7-1e22407f0ba8",
   "metadata": {},
   "outputs": [
    {
     "name": "stdout",
     "output_type": "stream",
     "text": [
      "\n",
      "Explained Variance Ratio for each Principal Component:\n",
      "[0.2276 0.0939 0.0822 0.0691 0.0627 0.0595 0.055  0.054  0.0532 0.0498\n",
      " 0.049  0.0393 0.0301 0.027  0.0239 0.0143 0.0095]\n"
     ]
    }
   ],
   "source": [
    "# Variance explained by each component (as a fraction)\n",
    "explained_variance_ratio = pca.explained_variance_ratio_\n",
    "\n",
    "# Display as array\n",
    "print(\"\\nExplained Variance Ratio for each Principal Component:\")\n",
    "print(np.round(explained_variance_ratio, 4))"
   ]
  },
  {
   "cell_type": "code",
   "execution_count": 62,
   "id": "3368ce55-152c-4b8c-9274-a80927e5025a",
   "metadata": {},
   "outputs": [],
   "source": [
    "# Retain PCA components per Kaiser Rule\n",
    "X_pca_selected = X_pca[:, :kaiser_components]"
   ]
  },
  {
   "cell_type": "code",
   "execution_count": 64,
   "id": "ad7a1941-ceec-45ee-8c6c-21af36294d5d",
   "metadata": {},
   "outputs": [],
   "source": [
    "# 5. Define X and y\n",
    "X = pd.DataFrame(X_pca_selected, columns=[f\"PC{i+1}\" for i in range(X_pca_selected.shape[1])])\n",
    "y = df[\"Price\"]\n",
    "\n",
    "# 6. Split into training/testing sets\n",
    "X_train, X_test, y_train, y_test = train_test_split(X, y, test_size=0.2, random_state=42)"
   ]
  },
  {
   "cell_type": "code",
   "execution_count": 66,
   "id": "33358b55-b57a-4e5d-af2e-fe5ea223a1bb",
   "metadata": {
    "scrolled": true
   },
   "outputs": [
    {
     "name": "stdout",
     "output_type": "stream",
     "text": [
      "                            OLS Regression Results                            \n",
      "==============================================================================\n",
      "Dep. Variable:                  Price   R-squared:                       0.797\n",
      "Model:                            OLS   Adj. R-squared:                  0.796\n",
      "Method:                 Least Squares   F-statistic:                     3653.\n",
      "Date:                Thu, 29 May 2025   Prob (F-statistic):               0.00\n",
      "Time:                        23:29:48   Log-Likelihood:                -70277.\n",
      "No. Observations:                5600   AIC:                         1.406e+05\n",
      "Df Residuals:                    5593   BIC:                         1.406e+05\n",
      "Df Model:                           6                                         \n",
      "Covariance Type:            nonrobust                                         \n",
      "==============================================================================\n",
      "                 coef    std err          t      P>|t|      [0.025      0.975]\n",
      "------------------------------------------------------------------------------\n",
      "const       3.078e+05    912.295    337.354      0.000    3.06e+05     3.1e+05\n",
      "PC1         6.438e+04    460.542    139.789      0.000    6.35e+04    6.53e+04\n",
      "PC2        -1147.8608    727.747     -1.577      0.115   -2574.527     278.805\n",
      "PC3         -2.77e+04    768.139    -36.055      0.000   -2.92e+04   -2.62e+04\n",
      "PC4         -2.66e+04    838.592    -31.720      0.000   -2.82e+04    -2.5e+04\n",
      "PC5         3482.6707    887.466      3.924      0.000    1742.892    5222.449\n",
      "PC6         -936.1346    909.439     -1.029      0.303   -2718.988     846.719\n",
      "==============================================================================\n",
      "Omnibus:                       91.574   Durbin-Watson:                   1.988\n",
      "Prob(Omnibus):                  0.000   Jarque-Bera (JB):              122.158\n",
      "Skew:                           0.215   Prob(JB):                     2.98e-27\n",
      "Kurtosis:                       3.582   Cond. No.                         1.98\n",
      "==============================================================================\n",
      "\n",
      "Notes:\n",
      "[1] Standard Errors assume that the covariance matrix of the errors is correctly specified.\n"
     ]
    }
   ],
   "source": [
    "# Fit initial OLS model\n",
    "model = sm.OLS(y_train, sm.add_constant(X_train)).fit()\n",
    "print(model.summary())"
   ]
  },
  {
   "cell_type": "code",
   "execution_count": 26,
   "id": "092ee6a8-176b-4b5e-99fc-6babfe2a7c1c",
   "metadata": {},
   "outputs": [
    {
     "name": "stdout",
     "output_type": "stream",
     "text": [
      "                            OLS Regression Results                            \n",
      "==============================================================================\n",
      "Dep. Variable:                  Price   R-squared:                       0.797\n",
      "Model:                            OLS   Adj. R-squared:                  0.796\n",
      "Method:                 Least Squares   F-statistic:                     4384.\n",
      "Date:                Thu, 29 May 2025   Prob (F-statistic):               0.00\n",
      "Time:                        23:09:18   Log-Likelihood:                -70277.\n",
      "No. Observations:                5600   AIC:                         1.406e+05\n",
      "Df Residuals:                    5594   BIC:                         1.406e+05\n",
      "Df Model:                           5                                         \n",
      "Covariance Type:            nonrobust                                         \n",
      "==============================================================================\n",
      "                 coef    std err          t      P>|t|      [0.025      0.975]\n",
      "------------------------------------------------------------------------------\n",
      "const       3.078e+05    912.298    337.351      0.000    3.06e+05     3.1e+05\n",
      "PC1         6.438e+04    460.542    139.785      0.000    6.35e+04    6.53e+04\n",
      "PC2        -1141.3626    727.723     -1.568      0.117   -2567.982     285.257\n",
      "PC3         -2.77e+04    768.104    -36.067      0.000   -2.92e+04   -2.62e+04\n",
      "PC4         -2.66e+04    838.586    -31.725      0.000   -2.82e+04    -2.5e+04\n",
      "PC5         3484.1083    887.470      3.926      0.000    1744.323    5223.894\n",
      "==============================================================================\n",
      "Omnibus:                       90.935   Durbin-Watson:                   1.987\n",
      "Prob(Omnibus):                  0.000   Jarque-Bera (JB):              121.292\n",
      "Skew:                           0.214   Prob(JB):                     4.59e-27\n",
      "Kurtosis:                       3.580   Cond. No.                         1.98\n",
      "==============================================================================\n",
      "\n",
      "Notes:\n",
      "[1] Standard Errors assume that the covariance matrix of the errors is correctly specified.\n",
      "                            OLS Regression Results                            \n",
      "==============================================================================\n",
      "Dep. Variable:                  Price   R-squared:                       0.797\n",
      "Model:                            OLS   Adj. R-squared:                  0.796\n",
      "Method:                 Least Squares   F-statistic:                     5478.\n",
      "Date:                Thu, 29 May 2025   Prob (F-statistic):               0.00\n",
      "Time:                        23:09:18   Log-Likelihood:                -70278.\n",
      "No. Observations:                5600   AIC:                         1.406e+05\n",
      "Df Residuals:                    5595   BIC:                         1.406e+05\n",
      "Df Model:                           4                                         \n",
      "Covariance Type:            nonrobust                                         \n",
      "==============================================================================\n",
      "                 coef    std err          t      P>|t|      [0.025      0.975]\n",
      "------------------------------------------------------------------------------\n",
      "const       3.078e+05    912.397    337.325      0.000    3.06e+05     3.1e+05\n",
      "PC1         6.438e+04    460.596    139.776      0.000    6.35e+04    6.53e+04\n",
      "PC3         -2.77e+04    768.199    -36.057      0.000   -2.92e+04   -2.62e+04\n",
      "PC4         -2.66e+04    838.695    -31.718      0.000   -2.82e+04    -2.5e+04\n",
      "PC5         3476.6576    887.573      3.917      0.000    1736.670    5216.645\n",
      "==============================================================================\n",
      "Omnibus:                       91.775   Durbin-Watson:                   1.987\n",
      "Prob(Omnibus):                  0.000   Jarque-Bera (JB):              122.277\n",
      "Skew:                           0.216   Prob(JB):                     2.80e-27\n",
      "Kurtosis:                       3.581   Cond. No.                         1.98\n",
      "==============================================================================\n",
      "\n",
      "Notes:\n",
      "[1] Standard Errors assume that the covariance matrix of the errors is correctly specified.\n"
     ]
    }
   ],
   "source": [
    "def backward_elimination(X, y, significance_level=0.05):\n",
    "    X = sm.add_constant(X)\n",
    "    model = sm.OLS(y, X).fit()\n",
    "    p_values = model.pvalues\n",
    "\n",
    "    while p_values.max() > significance_level:\n",
    "        remove_var = p_values.idxmax()\n",
    "        X = X.drop(columns=remove_var)\n",
    "        model = sm.OLS(y, X).fit()\n",
    "        p_values = model.pvalues\n",
    "        print(model.summary())  # Optional: see progress\n",
    "\n",
    "    return model\n",
    "\n",
    "# Run backward elimination\n",
    "final_model = backward_elimination(X_train, y_train)"
   ]
  },
  {
   "cell_type": "code",
   "execution_count": 28,
   "id": "19cae5bf-e69c-406a-b114-2c28e511a731",
   "metadata": {},
   "outputs": [
    {
     "name": "stdout",
     "output_type": "stream",
     "text": [
      "                            OLS Regression Results                            \n",
      "==============================================================================\n",
      "Dep. Variable:                  Price   R-squared:                       0.797\n",
      "Model:                            OLS   Adj. R-squared:                  0.796\n",
      "Method:                 Least Squares   F-statistic:                     3653.\n",
      "Date:                Thu, 29 May 2025   Prob (F-statistic):               0.00\n",
      "Time:                        23:09:18   Log-Likelihood:                -70277.\n",
      "No. Observations:                5600   AIC:                         1.406e+05\n",
      "Df Residuals:                    5593   BIC:                         1.406e+05\n",
      "Df Model:                           6                                         \n",
      "Covariance Type:            nonrobust                                         \n",
      "==============================================================================\n",
      "                 coef    std err          t      P>|t|      [0.025      0.975]\n",
      "------------------------------------------------------------------------------\n",
      "const       3.078e+05    912.295    337.354      0.000    3.06e+05     3.1e+05\n",
      "PC1         6.438e+04    460.542    139.789      0.000    6.35e+04    6.53e+04\n",
      "PC2        -1147.8608    727.747     -1.577      0.115   -2574.527     278.805\n",
      "PC3         -2.77e+04    768.139    -36.055      0.000   -2.92e+04   -2.62e+04\n",
      "PC4         -2.66e+04    838.592    -31.720      0.000   -2.82e+04    -2.5e+04\n",
      "PC5         3482.6707    887.466      3.924      0.000    1742.892    5222.449\n",
      "PC6         -936.1346    909.439     -1.029      0.303   -2718.988     846.719\n",
      "==============================================================================\n",
      "Omnibus:                       91.574   Durbin-Watson:                   1.988\n",
      "Prob(Omnibus):                  0.000   Jarque-Bera (JB):              122.158\n",
      "Skew:                           0.215   Prob(JB):                     2.98e-27\n",
      "Kurtosis:                       3.582   Cond. No.                         1.98\n",
      "==============================================================================\n",
      "\n",
      "Notes:\n",
      "[1] Standard Errors assume that the covariance matrix of the errors is correctly specified.\n"
     ]
    }
   ],
   "source": [
    " # Regression with statsmodels\n",
    "X_train_const = sm.add_constant(X_train)\n",
    "model = sm.OLS(y_train, X_train_const).fit()\n",
    "print(model.summary())"
   ]
  },
  {
   "cell_type": "code",
   "execution_count": 68,
   "id": "c58aa4a8-c20a-4639-adf7-941d4149967e",
   "metadata": {},
   "outputs": [
    {
     "name": "stdout",
     "output_type": "stream",
     "text": [
      "\n",
      "Model Evaluation Metrics:\n",
      "Adjusted R²: 0.796442266306274\n",
      "R²: 0.7965876906561177\n",
      "F-statistic: 5477.67751076248\n",
      "Prob (F-statistic): 0.0\n",
      "Coefficients:\n",
      " const    307774.316426\n",
      "PC1       64380.468755\n",
      "PC3      -27698.597975\n",
      "PC4      -26601.940349\n",
      "PC5        3476.657591\n",
      "dtype: float64\n",
      "P-values:\n",
      " const     0.000000e+00\n",
      "PC1       0.000000e+00\n",
      "PC3      3.530505e-256\n",
      "PC4      3.465156e-203\n",
      "PC5       9.071100e-05\n",
      "dtype: float64\n"
     ]
    }
   ],
   "source": [
    "print(\"\\nModel Evaluation Metrics:\")\n",
    "print(\"Adjusted R²:\", final_model.rsquared_adj)\n",
    "print(\"R²:\", final_model.rsquared)\n",
    "print(\"F-statistic:\", final_model.fvalue)\n",
    "print(\"Prob (F-statistic):\", final_model.f_pvalue)\n",
    "print(\"Coefficients:\\n\", final_model.params)\n",
    "print(\"P-values:\\n\", final_model.pvalues)\n"
   ]
  },
  {
   "cell_type": "code",
   "execution_count": 70,
   "id": "d574f9bd-b09d-4c52-8f85-3d6be0cf60af",
   "metadata": {},
   "outputs": [
    {
     "name": "stdout",
     "output_type": "stream",
     "text": [
      "Training MSE: 4653712690.110259\n"
     ]
    }
   ],
   "source": [
    "train_preds = model.predict(X_train_const)\n",
    "mse_train = mean_squared_error(y_train, train_preds)\n",
    "print(\"Training MSE:\", mse_train)\n"
   ]
  },
  {
   "cell_type": "code",
   "execution_count": 72,
   "id": "7ee0c00e-9a61-4143-ae55-963efdf0e269",
   "metadata": {},
   "outputs": [
    {
     "name": "stdout",
     "output_type": "stream",
     "text": [
      "Test MSE: 4631432665.18786\n"
     ]
    }
   ],
   "source": [
    "test_preds = model.predict(sm.add_constant(X_test))\n",
    "mse_test = mean_squared_error(y_test, test_preds)\n",
    "print(\"Test MSE:\", mse_test)\n"
   ]
  },
  {
   "cell_type": "code",
   "execution_count": null,
   "id": "ac02bd70-a518-46f6-be9f-eb83a7d41f4e",
   "metadata": {},
   "outputs": [],
   "source": []
  }
 ],
 "metadata": {
  "kernelspec": {
   "display_name": "Python [conda env:base] *",
   "language": "python",
   "name": "conda-base-py"
  },
  "language_info": {
   "codemirror_mode": {
    "name": "ipython",
    "version": 3
   },
   "file_extension": ".py",
   "mimetype": "text/x-python",
   "name": "python",
   "nbconvert_exporter": "python",
   "pygments_lexer": "ipython3",
   "version": "3.12.7"
  }
 },
 "nbformat": 4,
 "nbformat_minor": 5
}
